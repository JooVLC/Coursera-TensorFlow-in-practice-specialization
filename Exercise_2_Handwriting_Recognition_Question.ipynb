{
  "nbformat": 4,
  "nbformat_minor": 0,
  "metadata": {
    "colab": {
      "name": "Exercise 2 Handwriting Recognition Question.ipynb",
      "provenance": [],
      "authorship_tag": "ABX9TyOWbcdeJrqFtOuwNTTeB23x",
      "include_colab_link": true
    },
    "kernelspec": {
      "name": "python3",
      "display_name": "Python 3"
    },
    "language_info": {
      "name": "python"
    }
  },
  "cells": [
    {
      "cell_type": "markdown",
      "metadata": {
        "id": "view-in-github",
        "colab_type": "text"
      },
      "source": [
        "<a href=\"https://colab.research.google.com/github/JooVLC/Coursera-TensorFlow-in-practice-specialization/blob/main/Exercise_2_Handwriting_Recognition_Question.ipynb\" target=\"_parent\"><img src=\"https://colab.research.google.com/assets/colab-badge.svg\" alt=\"Open In Colab\"/></a>"
      ]
    },
    {
      "cell_type": "code",
      "execution_count": 2,
      "metadata": {
        "colab": {
          "base_uri": "https://localhost:8080/"
        },
        "id": "B4_B2pVHY99v",
        "outputId": "2eedab86-5695-4bfa-b4a2-b73bca0dc045"
      },
      "outputs": [
        {
          "output_type": "stream",
          "name": "stdout",
          "text": [
            "2.7.0\n"
          ]
        }
      ],
      "source": [
        "import tensorflow as tf\n",
        "import numpy as np\n",
        "from tensorflow import keras\n",
        "\n",
        "print(tf.__version__)"
      ]
    },
    {
      "cell_type": "code",
      "source": [
        "class tf_stop_training_after_hit_accuracy_callback(keras.callbacks.Callback):\n",
        "  def __init__(self, desired_accuracy):\n",
        "    self.desired_accuracy = desired_accuracy\n",
        "    super().__init__()\n",
        "\n",
        "  def on_epoch_end(self, epoch, logs={}):\n",
        "    current_epoch_accuracy = logs.get('accuracy')\n",
        "    if current_epoch_accuracy is not None and current_epoch_accuracy >= self.desired_accuracy:\n",
        "      self.model.stop_training = True\n"
      ],
      "metadata": {
        "id": "6-ZWD6R_m4LB"
      },
      "execution_count": 68,
      "outputs": []
    },
    {
      "cell_type": "code",
      "source": [
        "selected_dataset = keras.datasets.mnist"
      ],
      "metadata": {
        "id": "Y1ORLKHwreG4"
      },
      "execution_count": 55,
      "outputs": []
    },
    {
      "cell_type": "code",
      "source": [
        "(train_images, train_labels), (test_images, test_labels) = selected_dataset.load_data()"
      ],
      "metadata": {
        "colab": {
          "base_uri": "https://localhost:8080/"
        },
        "id": "5OJ3l7olaBVj",
        "outputId": "4258bb33-51ef-437d-b013-f53a7f2d806c"
      },
      "execution_count": 56,
      "outputs": [
        {
          "output_type": "stream",
          "name": "stdout",
          "text": [
            "Downloading data from https://storage.googleapis.com/tensorflow/tf-keras-datasets/mnist.npz\n",
            "11493376/11490434 [==============================] - 0s 0us/step\n",
            "11501568/11490434 [==============================] - 0s 0us/step\n"
          ]
        }
      ]
    },
    {
      "cell_type": "code",
      "source": [
        "import matplotlib.pyplot as plt\n",
        "plt.imshow(train_images[30])"
      ],
      "metadata": {
        "colab": {
          "base_uri": "https://localhost:8080/",
          "height": 282
        },
        "id": "caKhdyK8c5OX",
        "outputId": "0ce7db85-fd52-47f6-f23e-e34d833e4d38"
      },
      "execution_count": 58,
      "outputs": [
        {
          "output_type": "execute_result",
          "data": {
            "text/plain": [
              "<matplotlib.image.AxesImage at 0x7fa01f3b5ed0>"
            ]
          },
          "metadata": {},
          "execution_count": 58
        },
        {
          "output_type": "display_data",
          "data": {
            "image/png": "[encoded data removed]",
            "text/plain": [
              "<Figure size 432x288 with 1 Axes>"
            ]
          },
          "metadata": {
            "needs_background": "light"
          }
        }
      ]
    },
    {
      "cell_type": "code",
      "source": [
        "train_images_normalized = train_images / 255.0\n",
        "test_images_normalized = test_images / 255.0"
      ],
      "metadata": {
        "id": "I3esx7ZVc86m"
      },
      "execution_count": 59,
      "outputs": []
    },
    {
      "cell_type": "code",
      "source": [
        "model = keras.Sequential()\n",
        "model.add(keras.layers.Flatten())\n",
        "model.add(keras.layers.Dense(units=512, activation=tf.nn.relu))\n",
        "model.add(keras.layers.Dense(units=10, activation=tf.nn.softmax))"
      ],
      "metadata": {
        "id": "UQT-zVpcezd2"
      },
      "execution_count": 63,
      "outputs": []
    },
    {
      "cell_type": "code",
      "source": [
        "callback_to_stop_training = tf_stop_training_after_hit_accuracy_callback(0.99)"
      ],
      "metadata": {
        "id": "5FWJtnaMoeyN"
      },
      "execution_count": 69,
      "outputs": []
    },
    {
      "cell_type": "code",
      "source": [
        "model.compile(optimizer=tf.optimizers.Adam(), loss='sparse_categorical_crossentropy', metrics=['accuracy'])\n",
        "model.fit(train_images_normalized, train_labels, epochs=10000, callbacks=[callback_to_stop_training])"
      ],
      "metadata": {
        "colab": {
          "base_uri": "https://localhost:8080/"
        },
        "id": "o9SUCPzgf7zh",
        "outputId": "e61cc507-ae10-480b-cbf8-41ff41c4a683"
      },
      "execution_count": 70,
      "outputs": [
        {
          "output_type": "stream",
          "name": "stdout",
          "text": [
            "Epoch 1/10000\n",
            "1875/1875 [==============================] - 13s 7ms/step - loss: 0.0203 - accuracy: 0.9937\n"
          ]
        },
        {
          "output_type": "execute_result",
          "data": {
            "text/plain": [
              "<keras.callbacks.History at 0x7fa01f4ab090>"
            ]
          },
          "metadata": {},
          "execution_count": 70
        }
      ]
    },
    {
      "cell_type": "code",
      "source": [
        "model.evaluate(test_images_normalized, test_labels)"
      ],
      "metadata": {
        "colab": {
          "base_uri": "https://localhost:8080/"
        },
        "id": "nDEskADfg8_j",
        "outputId": "b7ef9eb0-338c-42b9-8a3c-5cdb46969e73"
      },
      "execution_count": 71,
      "outputs": [
        {
          "output_type": "stream",
          "name": "stdout",
          "text": [
            "313/313 [==============================] - 1s 4ms/step - loss: 0.0631 - accuracy: 0.9818\n"
          ]
        },
        {
          "output_type": "execute_result",
          "data": {
            "text/plain": [
              "[0.06310193240642548, 0.9818000197410583]"
            ]
          },
          "metadata": {},
          "execution_count": 71
        }
      ]
    }
  ]
}