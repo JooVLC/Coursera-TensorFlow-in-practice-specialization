{
  "nbformat": 4,
  "nbformat_minor": 0,
  "metadata": {
    "colab": {
      "name": "Exercise 3 Convolutions Question.ipynb",
      "provenance": [],
      "authorship_tag": "ABX9TyNejPqVG8XAFUjo8fZfyLtl",
      "include_colab_link": true
    },
    "kernelspec": {
      "name": "python3",
      "display_name": "Python 3"
    },
    "language_info": {
      "name": "python"
    },
    "accelerator": "GPU"
  },
  "cells": [
    {
      "cell_type": "markdown",
      "metadata": {
        "id": "view-in-github",
        "colab_type": "text"
      },
      "source": [
        "<a href=\"https://colab.research.google.com/github/JooVLC/Coursera-TensorFlow-in-practice-specialization/blob/main/Exercise_3_Convolutions_Question.ipynb\" target=\"_parent\"><img src=\"https://colab.research.google.com/assets/colab-badge.svg\" alt=\"Open In Colab\"/></a>"
      ]
    },
    {
      "cell_type": "code",
      "execution_count": 2,
      "metadata": {
        "colab": {
          "base_uri": "https://localhost:8080/"
        },
        "id": "NbI-5elfE2Nm",
        "outputId": "8f6a64b6-d28a-4128-b610-1f718f8877ce"
      },
      "outputs": [
        {
          "output_type": "stream",
          "name": "stdout",
          "text": [
            "2.7.0\n"
          ]
        }
      ],
      "source": [
        "import tensorflow as tf\n",
        "import numpy as np\n",
        "from tensorflow import keras\n",
        "import matplotlib.pyplot as plt\n",
        "\n",
        "print(tf.__version__)"
      ]
    },
    {
      "cell_type": "code",
      "source": [
        "class tf_stop_training_after_hit_accuracy_callback(keras.callbacks.Callback):\n",
        "  def __init__(self, desired_accuracy):\n",
        "    self.desired_accuracy = desired_accuracy\n",
        "    super().__init__()\n",
        "\n",
        "  def on_epoch_end(self, epoch, logs={}):\n",
        "    current_epoch_accuracy = logs.get('accuracy')\n",
        "    if current_epoch_accuracy is not None and current_epoch_accuracy >= self.desired_accuracy:\n",
        "      self.model.stop_training = True"
      ],
      "metadata": {
        "id": "qe1q9uFXLhmG"
      },
      "execution_count": 3,
      "outputs": []
    },
    {
      "cell_type": "code",
      "source": [
        "selected_dataset = keras.datasets.fashion_mnist\n",
        "(train_images, train_labels), (test_images, test_labels) = selected_dataset.load_data()"
      ],
      "metadata": {
        "colab": {
          "base_uri": "https://localhost:8080/"
        },
        "id": "uzyCFVvsFLfa",
        "outputId": "c8218df2-aeb1-4fc4-f732-5fd2e4cea402"
      },
      "execution_count": 4,
      "outputs": [
        {
          "output_type": "stream",
          "name": "stdout",
          "text": [
            "Downloading data from https://storage.googleapis.com/tensorflow/tf-keras-datasets/train-labels-idx1-ubyte.gz\n",
            "32768/29515 [=================================] - 0s 0us/step\n",
            "40960/29515 [=========================================] - 0s 0us/step\n",
            "Downloading data from https://storage.googleapis.com/tensorflow/tf-keras-datasets/train-images-idx3-ubyte.gz\n",
            "26427392/26421880 [==============================] - 0s 0us/step\n",
            "26435584/26421880 [==============================] - 0s 0us/step\n",
            "Downloading data from https://storage.googleapis.com/tensorflow/tf-keras-datasets/t10k-labels-idx1-ubyte.gz\n",
            "16384/5148 [===============================================================================================] - 0s 0us/step\n",
            "Downloading data from https://storage.googleapis.com/tensorflow/tf-keras-datasets/t10k-images-idx3-ubyte.gz\n",
            "4423680/4422102 [==============================] - 0s 0us/step\n",
            "4431872/4422102 [==============================] - 0s 0us/step\n"
          ]
        }
      ]
    },
    {
      "cell_type": "code",
      "source": [
        "train_images_normalized = train_images / 255.0\n",
        "test_images_normalized = test_images / 255.0"
      ],
      "metadata": {
        "id": "CpR_EqYSFkVn"
      },
      "execution_count": 5,
      "outputs": []
    },
    {
      "cell_type": "code",
      "source": [
        "plt.imshow(train_images_normalized[25])"
      ],
      "metadata": {
        "colab": {
          "base_uri": "https://localhost:8080/",
          "height": 282
        },
        "id": "P4I7TegVF2tL",
        "outputId": "c7a2b065-16b5-4632-9f8b-e79a9b6bf0a3"
      },
      "execution_count": 6,
      "outputs": [
        {
          "output_type": "execute_result",
          "data": {
            "text/plain": [
              "<matplotlib.image.AxesImage at 0x7fa80d834ed0>"
            ]
          },
          "metadata": {},
          "execution_count": 6
        },
        {
          "output_type": "display_data",
          "data": {
            "image/png": "[encoded data removed]",
            "text/plain": [
              "<Figure size 432x288 with 1 Axes>"
            ]
          },
          "metadata": {
            "needs_background": "light"
          }
        }
      ]
    },
    {
      "cell_type": "code",
      "source": [
        "relu = tf.nn.relu\n",
        "softmax = tf.nn.softmax\n",
        "\n",
        "model = keras.Sequential()\n",
        "model.add(keras.layers.Conv2D(64, (3, 3), activation=relu, input_shape=(28, 28, 1)))\n",
        "model.add(keras.layers.MaxPool2D(2, 2))\n",
        "model.add(keras.layers.Conv2D(64, (3, 3), activation=relu))\n",
        "model.add(keras.layers.MaxPool2D(2, 2))\n",
        "model.add(keras.layers.Flatten())\n",
        "model.add(keras.layers.Dense(units=512, activation=relu))\n",
        "model.add(keras.layers.Dense(units=10, activation=softmax))\n",
        "\n",
        "model.compile(optimizer=tf.optimizers.Adam(), loss=tf.losses.sparse_categorical_crossentropy, metrics=['accuracy'])"
      ],
      "metadata": {
        "id": "dc1tUxw0JKRv"
      },
      "execution_count": 7,
      "outputs": []
    },
    {
      "cell_type": "code",
      "source": [
        "callback_to_stop_training = tf_stop_training_after_hit_accuracy_callback(0.998)"
      ],
      "metadata": {
        "id": "DIXNsnxkLedZ"
      },
      "execution_count": 8,
      "outputs": []
    },
    {
      "cell_type": "code",
      "source": [
        "model.fit(train_images_normalized, train_labels, epochs=10000, callbacks=[callback_to_stop_training])"
      ],
      "metadata": {
        "colab": {
          "base_uri": "https://localhost:8080/"
        },
        "id": "cCA7hJ2GKaN1",
        "outputId": "8e6b901d-0e03-49e2-9fef-7bec0eb87945"
      },
      "execution_count": 9,
      "outputs": [
        {
          "output_type": "stream",
          "name": "stdout",
          "text": [
            "Epoch 1/10000\n",
            "1875/1875 [==============================] - 18s 3ms/step - loss: 0.4145 - accuracy: 0.8479\n",
            "Epoch 2/10000\n",
            "1875/1875 [==============================] - 6s 3ms/step - loss: 0.2744 - accuracy: 0.8986\n",
            "Epoch 3/10000\n",
            "1875/1875 [==============================] - 6s 3ms/step - loss: 0.2297 - accuracy: 0.9136\n",
            "Epoch 4/10000\n",
            "1875/1875 [==============================] - 6s 3ms/step - loss: 0.1943 - accuracy: 0.9265\n",
            "Epoch 5/10000\n",
            "1875/1875 [==============================] - 6s 3ms/step - loss: 0.1658 - accuracy: 0.9381\n",
            "Epoch 6/10000\n",
            "1875/1875 [==============================] - 6s 3ms/step - loss: 0.1385 - accuracy: 0.9467\n",
            "Epoch 7/10000\n",
            "1875/1875 [==============================] - 6s 3ms/step - loss: 0.1162 - accuracy: 0.9564\n",
            "Epoch 8/10000\n",
            "1875/1875 [==============================] - 6s 3ms/step - loss: 0.0997 - accuracy: 0.9619\n",
            "Epoch 9/10000\n",
            "1875/1875 [==============================] - 6s 3ms/step - loss: 0.0832 - accuracy: 0.9692\n",
            "Epoch 10/10000\n",
            "1875/1875 [==============================] - 6s 3ms/step - loss: 0.0686 - accuracy: 0.9740\n",
            "Epoch 11/10000\n",
            "1875/1875 [==============================] - 6s 3ms/step - loss: 0.0582 - accuracy: 0.9784\n",
            "Epoch 12/10000\n",
            "1875/1875 [==============================] - 6s 3ms/step - loss: 0.0520 - accuracy: 0.9805\n",
            "Epoch 13/10000\n",
            "1875/1875 [==============================] - 6s 3ms/step - loss: 0.0457 - accuracy: 0.9830\n",
            "Epoch 14/10000\n",
            "1875/1875 [==============================] - 6s 3ms/step - loss: 0.0385 - accuracy: 0.9859\n",
            "Epoch 15/10000\n",
            "1875/1875 [==============================] - 6s 3ms/step - loss: 0.0347 - accuracy: 0.9873\n",
            "Epoch 16/10000\n",
            "1875/1875 [==============================] - 6s 3ms/step - loss: 0.0336 - accuracy: 0.9880\n",
            "Epoch 17/10000\n",
            "1875/1875 [==============================] - 6s 3ms/step - loss: 0.0295 - accuracy: 0.9898\n",
            "Epoch 18/10000\n",
            "1875/1875 [==============================] - 6s 3ms/step - loss: 0.0292 - accuracy: 0.9899\n",
            "Epoch 19/10000\n",
            "1875/1875 [==============================] - 6s 3ms/step - loss: 0.0275 - accuracy: 0.9902\n",
            "Epoch 20/10000\n",
            "1875/1875 [==============================] - 6s 3ms/step - loss: 0.0267 - accuracy: 0.9906\n",
            "Epoch 21/10000\n",
            "1875/1875 [==============================] - 6s 3ms/step - loss: 0.0244 - accuracy: 0.9915\n",
            "Epoch 22/10000\n",
            "1875/1875 [==============================] - 6s 3ms/step - loss: 0.0231 - accuracy: 0.9917\n",
            "Epoch 23/10000\n",
            "1875/1875 [==============================] - 6s 3ms/step - loss: 0.0230 - accuracy: 0.9919\n",
            "Epoch 24/10000\n",
            "1875/1875 [==============================] - 6s 3ms/step - loss: 0.0233 - accuracy: 0.9919\n",
            "Epoch 25/10000\n",
            "1875/1875 [==============================] - 6s 3ms/step - loss: 0.0221 - accuracy: 0.9929\n",
            "Epoch 26/10000\n",
            "1875/1875 [==============================] - 6s 3ms/step - loss: 0.0223 - accuracy: 0.9924\n",
            "Epoch 27/10000\n",
            "1875/1875 [==============================] - 6s 3ms/step - loss: 0.0196 - accuracy: 0.9937\n",
            "Epoch 28/10000\n",
            "1875/1875 [==============================] - 6s 3ms/step - loss: 0.0215 - accuracy: 0.9930\n",
            "Epoch 29/10000\n",
            "1875/1875 [==============================] - 6s 3ms/step - loss: 0.0171 - accuracy: 0.9944\n",
            "Epoch 30/10000\n",
            "1875/1875 [==============================] - 6s 3ms/step - loss: 0.0231 - accuracy: 0.9927\n",
            "Epoch 31/10000\n",
            "1875/1875 [==============================] - 6s 3ms/step - loss: 0.0164 - accuracy: 0.9946\n",
            "Epoch 32/10000\n",
            "1875/1875 [==============================] - 6s 3ms/step - loss: 0.0202 - accuracy: 0.9937\n",
            "Epoch 33/10000\n",
            "1875/1875 [==============================] - 6s 3ms/step - loss: 0.0184 - accuracy: 0.9941\n",
            "Epoch 34/10000\n",
            "1875/1875 [==============================] - 6s 3ms/step - loss: 0.0161 - accuracy: 0.9950\n",
            "Epoch 35/10000\n",
            "1875/1875 [==============================] - 6s 3ms/step - loss: 0.0164 - accuracy: 0.9949\n",
            "Epoch 36/10000\n",
            "1875/1875 [==============================] - 6s 3ms/step - loss: 0.0186 - accuracy: 0.9944\n",
            "Epoch 37/10000\n",
            "1875/1875 [==============================] - 6s 3ms/step - loss: 0.0183 - accuracy: 0.9949\n",
            "Epoch 38/10000\n",
            "1875/1875 [==============================] - 6s 3ms/step - loss: 0.0171 - accuracy: 0.9946\n",
            "Epoch 39/10000\n",
            "1875/1875 [==============================] - 6s 3ms/step - loss: 0.0175 - accuracy: 0.9948\n",
            "Epoch 40/10000\n",
            "1875/1875 [==============================] - 6s 3ms/step - loss: 0.0120 - accuracy: 0.9959\n",
            "Epoch 41/10000\n",
            "1875/1875 [==============================] - 6s 3ms/step - loss: 0.0197 - accuracy: 0.9947\n",
            "Epoch 42/10000\n",
            "1875/1875 [==============================] - 6s 3ms/step - loss: 0.0161 - accuracy: 0.9949\n",
            "Epoch 43/10000\n",
            "1875/1875 [==============================] - 6s 3ms/step - loss: 0.0108 - accuracy: 0.9969\n",
            "Epoch 44/10000\n",
            "1875/1875 [==============================] - 6s 3ms/step - loss: 0.0201 - accuracy: 0.9941\n",
            "Epoch 45/10000\n",
            "1875/1875 [==============================] - 6s 3ms/step - loss: 0.0161 - accuracy: 0.9956\n",
            "Epoch 46/10000\n",
            "1875/1875 [==============================] - 6s 3ms/step - loss: 0.0138 - accuracy: 0.9961\n",
            "Epoch 47/10000\n",
            "1875/1875 [==============================] - 6s 3ms/step - loss: 0.0154 - accuracy: 0.9954\n",
            "Epoch 48/10000\n",
            "1875/1875 [==============================] - 6s 3ms/step - loss: 0.0137 - accuracy: 0.9962\n",
            "Epoch 49/10000\n",
            "1875/1875 [==============================] - 6s 3ms/step - loss: 0.0129 - accuracy: 0.9963\n",
            "Epoch 50/10000\n",
            "1875/1875 [==============================] - 6s 3ms/step - loss: 0.0158 - accuracy: 0.9956\n",
            "Epoch 51/10000\n",
            "1875/1875 [==============================] - 6s 3ms/step - loss: 0.0167 - accuracy: 0.9957\n",
            "Epoch 52/10000\n",
            "1875/1875 [==============================] - 6s 3ms/step - loss: 0.0134 - accuracy: 0.9965\n",
            "Epoch 53/10000\n",
            "1875/1875 [==============================] - 6s 3ms/step - loss: 0.0160 - accuracy: 0.9955\n",
            "Epoch 54/10000\n",
            "1875/1875 [==============================] - 6s 3ms/step - loss: 0.0145 - accuracy: 0.9964\n",
            "Epoch 55/10000\n",
            "1875/1875 [==============================] - 6s 3ms/step - loss: 0.0153 - accuracy: 0.9958\n",
            "Epoch 56/10000\n",
            "1875/1875 [==============================] - 6s 3ms/step - loss: 0.0158 - accuracy: 0.9959\n",
            "Epoch 57/10000\n",
            "1875/1875 [==============================] - 6s 3ms/step - loss: 0.0176 - accuracy: 0.9952\n",
            "Epoch 58/10000\n",
            "1875/1875 [==============================] - 6s 3ms/step - loss: 0.0151 - accuracy: 0.9961\n",
            "Epoch 59/10000\n",
            "1875/1875 [==============================] - 6s 3ms/step - loss: 0.0147 - accuracy: 0.9960\n",
            "Epoch 60/10000\n",
            "1875/1875 [==============================] - 6s 3ms/step - loss: 0.0116 - accuracy: 0.9970\n",
            "Epoch 61/10000\n",
            "1875/1875 [==============================] - 6s 3ms/step - loss: 0.0164 - accuracy: 0.9957\n",
            "Epoch 62/10000\n",
            "1875/1875 [==============================] - 6s 3ms/step - loss: 0.0152 - accuracy: 0.9961\n",
            "Epoch 63/10000\n",
            "1875/1875 [==============================] - 6s 3ms/step - loss: 0.0125 - accuracy: 0.9969\n",
            "Epoch 64/10000\n",
            "1875/1875 [==============================] - 6s 3ms/step - loss: 0.0162 - accuracy: 0.9962\n",
            "Epoch 65/10000\n",
            "1875/1875 [==============================] - 6s 3ms/step - loss: 0.0125 - accuracy: 0.9966\n",
            "Epoch 66/10000\n",
            "1875/1875 [==============================] - 6s 3ms/step - loss: 0.0126 - accuracy: 0.9968\n",
            "Epoch 67/10000\n",
            "1875/1875 [==============================] - 6s 3ms/step - loss: 0.0166 - accuracy: 0.9961\n",
            "Epoch 68/10000\n",
            "1875/1875 [==============================] - 6s 3ms/step - loss: 0.0133 - accuracy: 0.9967\n",
            "Epoch 69/10000\n",
            "1875/1875 [==============================] - 6s 3ms/step - loss: 0.0139 - accuracy: 0.9965\n",
            "Epoch 70/10000\n",
            "1875/1875 [==============================] - 6s 3ms/step - loss: 0.0165 - accuracy: 0.9959\n",
            "Epoch 71/10000\n",
            "1875/1875 [==============================] - 6s 3ms/step - loss: 0.0126 - accuracy: 0.9967\n",
            "Epoch 72/10000\n",
            "1875/1875 [==============================] - 6s 3ms/step - loss: 0.0121 - accuracy: 0.9971\n",
            "Epoch 73/10000\n",
            "1875/1875 [==============================] - 6s 3ms/step - loss: 0.0159 - accuracy: 0.9968\n",
            "Epoch 74/10000\n",
            "1875/1875 [==============================] - 6s 3ms/step - loss: 0.0164 - accuracy: 0.9964\n",
            "Epoch 75/10000\n",
            "1875/1875 [==============================] - 6s 3ms/step - loss: 0.0118 - accuracy: 0.9971\n",
            "Epoch 76/10000\n",
            "1875/1875 [==============================] - 6s 3ms/step - loss: 0.0133 - accuracy: 0.9970\n",
            "Epoch 77/10000\n",
            "1875/1875 [==============================] - 6s 3ms/step - loss: 0.0191 - accuracy: 0.9959\n",
            "Epoch 78/10000\n",
            "1875/1875 [==============================] - 6s 3ms/step - loss: 0.0107 - accuracy: 0.9975\n",
            "Epoch 79/10000\n",
            "1875/1875 [==============================] - 6s 3ms/step - loss: 0.0153 - accuracy: 0.9966\n",
            "Epoch 80/10000\n",
            "1875/1875 [==============================] - 6s 3ms/step - loss: 0.0149 - accuracy: 0.9968\n",
            "Epoch 81/10000\n",
            "1875/1875 [==============================] - 6s 3ms/step - loss: 0.0144 - accuracy: 0.9969\n",
            "Epoch 82/10000\n",
            "1875/1875 [==============================] - 6s 3ms/step - loss: 0.0111 - accuracy: 0.9973\n",
            "Epoch 83/10000\n",
            "1875/1875 [==============================] - 6s 3ms/step - loss: 0.0172 - accuracy: 0.9961\n",
            "Epoch 84/10000\n",
            "1875/1875 [==============================] - 6s 3ms/step - loss: 0.0114 - accuracy: 0.9974\n",
            "Epoch 85/10000\n",
            "1875/1875 [==============================] - 6s 3ms/step - loss: 0.0126 - accuracy: 0.9971\n",
            "Epoch 86/10000\n",
            "1875/1875 [==============================] - 6s 3ms/step - loss: 0.0149 - accuracy: 0.9967\n",
            "Epoch 87/10000\n",
            "1875/1875 [==============================] - 6s 3ms/step - loss: 0.0145 - accuracy: 0.9969\n",
            "Epoch 88/10000\n",
            "1875/1875 [==============================] - 6s 3ms/step - loss: 0.0142 - accuracy: 0.9966\n",
            "Epoch 89/10000\n",
            "1875/1875 [==============================] - 6s 3ms/step - loss: 0.0118 - accuracy: 0.9977\n",
            "Epoch 90/10000\n",
            "1875/1875 [==============================] - 6s 3ms/step - loss: 0.0121 - accuracy: 0.9974\n",
            "Epoch 91/10000\n",
            "1875/1875 [==============================] - 6s 3ms/step - loss: 0.0174 - accuracy: 0.9964\n",
            "Epoch 92/10000\n",
            "1875/1875 [==============================] - 6s 3ms/step - loss: 0.0092 - accuracy: 0.9979\n",
            "Epoch 93/10000\n",
            "1875/1875 [==============================] - 6s 3ms/step - loss: 0.0133 - accuracy: 0.9970\n",
            "Epoch 94/10000\n",
            "1875/1875 [==============================] - 6s 3ms/step - loss: 0.0118 - accuracy: 0.9976\n",
            "Epoch 95/10000\n",
            "1875/1875 [==============================] - 6s 3ms/step - loss: 0.0139 - accuracy: 0.9971\n",
            "Epoch 96/10000\n",
            "1875/1875 [==============================] - 6s 3ms/step - loss: 0.0138 - accuracy: 0.9967\n",
            "Epoch 97/10000\n",
            "1875/1875 [==============================] - 6s 3ms/step - loss: 0.0135 - accuracy: 0.9971\n",
            "Epoch 98/10000\n",
            "1875/1875 [==============================] - 6s 3ms/step - loss: 0.0145 - accuracy: 0.9971\n",
            "Epoch 99/10000\n",
            "1875/1875 [==============================] - 6s 3ms/step - loss: 0.0090 - accuracy: 0.9980\n",
            "Epoch 100/10000\n",
            "1875/1875 [==============================] - 6s 3ms/step - loss: 0.0160 - accuracy: 0.9971\n",
            "Epoch 101/10000\n",
            "1875/1875 [==============================] - 6s 3ms/step - loss: 0.0122 - accuracy: 0.9974\n",
            "Epoch 102/10000\n",
            "1875/1875 [==============================] - 6s 3ms/step - loss: 0.0131 - accuracy: 0.9974\n",
            "Epoch 103/10000\n",
            "1875/1875 [==============================] - 6s 3ms/step - loss: 0.0124 - accuracy: 0.9975\n",
            "Epoch 104/10000\n",
            "1875/1875 [==============================] - 6s 3ms/step - loss: 0.0160 - accuracy: 0.9971\n",
            "Epoch 105/10000\n",
            "1875/1875 [==============================] - 6s 3ms/step - loss: 0.0135 - accuracy: 0.9975\n",
            "Epoch 106/10000\n",
            "1875/1875 [==============================] - 6s 3ms/step - loss: 0.0117 - accuracy: 0.9977\n",
            "Epoch 107/10000\n",
            "1875/1875 [==============================] - 6s 3ms/step - loss: 0.0118 - accuracy: 0.9973\n",
            "Epoch 108/10000\n",
            "1875/1875 [==============================] - 6s 3ms/step - loss: 0.0134 - accuracy: 0.9975\n",
            "Epoch 109/10000\n",
            "1875/1875 [==============================] - 6s 3ms/step - loss: 0.0097 - accuracy: 0.9982\n"
          ]
        },
        {
          "output_type": "execute_result",
          "data": {
            "text/plain": [
              "<keras.callbacks.History at 0x7fa79025cd50>"
            ]
          },
          "metadata": {},
          "execution_count": 9
        }
      ]
    },
    {
      "cell_type": "code",
      "source": [
        "model.evaluate(test_images_normalized, test_labels)"
      ],
      "metadata": {
        "colab": {
          "base_uri": "https://localhost:8080/"
        },
        "id": "pTPeF5oyS3gP",
        "outputId": "b9d482a9-b655-483e-e954-67034c49d97e"
      },
      "execution_count": 11,
      "outputs": [
        {
          "output_type": "stream",
          "name": "stdout",
          "text": [
            "313/313 [==============================] - 1s 3ms/step - loss: 1.9852 - accuracy: 0.9071\n"
          ]
        },
        {
          "output_type": "execute_result",
          "data": {
            "text/plain": [
              "[1.9852187633514404, 0.9071000218391418]"
            ]
          },
          "metadata": {},
          "execution_count": 11
        }
      ]
    }
  ]
}