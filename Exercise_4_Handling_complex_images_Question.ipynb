{
  "nbformat": 4,
  "nbformat_minor": 0,
  "metadata": {
    "colab": {
      "name": "Exercise 4 Handling complex images Question.ipynb",
      "provenance": [],
      "authorship_tag": "ABX9TyNQflqlghEeFgYFgY7fDV/a",
      "include_colab_link": true
    },
    "kernelspec": {
      "name": "python3",
      "display_name": "Python 3"
    },
    "language_info": {
      "name": "python"
    }
  },
  "cells": [
    {
      "cell_type": "markdown",
      "metadata": {
        "id": "view-in-github",
        "colab_type": "text"
      },
      "source": [
        "<a href=\"https://colab.research.google.com/github/JooVLC/Coursera-TensorFlow-in-practice-specialization/blob/main/Exercise_4_Handling_complex_images_Question.ipynb\" target=\"_parent\"><img src=\"https://colab.research.google.com/assets/colab-badge.svg\" alt=\"Open In Colab\"/></a>"
      ]
    },
    {
      "cell_type": "code",
      "execution_count": null,
      "metadata": {
        "id": "rpg4IDJisbF4"
      },
      "outputs": [],
      "source": [
        ""
      ]
    }
  ]
}